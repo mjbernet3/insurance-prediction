{
 "cells": [
  {
   "cell_type": "code",
   "execution_count": 21,
   "metadata": {},
   "outputs": [],
   "source": [
    "from sklearn.linear_model import LinearRegression\n",
    "from sklearn.metrics import mean_squared_error, r2_score\n",
    "import pandas as pd\n",
    "\n",
    "model = LinearRegression()"
   ]
  },
  {
   "cell_type": "code",
   "execution_count": 22,
   "metadata": {},
   "outputs": [
    {
     "name": "stdout",
     "output_type": "stream",
     "text": [
      "R2 score: 0.7512391524454374\n",
      "MSE: 0.2855585853189675\n"
     ]
    }
   ],
   "source": [
    "### Predict insurance costs for all charges ###\n",
    "\n",
    "trainInsurance = pd.read_csv(\"../../data/sets/insurance_train.csv\")\n",
    "testInsurance = pd.read_csv(\"../../data/sets/insurance_test.csv\")\n",
    "\n",
    "trainX = trainInsurance.drop(columns = [\"charges\"])\n",
    "trainY = trainInsurance[\"charges\"]\n",
    "\n",
    "testX = testInsurance.drop(columns = [\"charges\"])\n",
    "testY = testInsurance[\"charges\"]\n",
    "\n",
    "model.fit(trainX, trainY)\n",
    "predictions = model.predict(testX)\n",
    "\n",
    "print(\"R2 score: \" + str(r2_score(testY, predictions)))\n",
    "print(\"MSE: \" + str(mean_squared_error(testY, predictions)))"
   ]
  },
  {
   "cell_type": "code",
   "execution_count": 23,
   "metadata": {},
   "outputs": [
    {
     "name": "stdout",
     "output_type": "stream",
     "text": [
      "R2 score: 0.523778812882556\n",
      "MSE: 0.32619300467652074\n"
     ]
    }
   ],
   "source": [
    "### Predict insurance costs for high charges ###\n",
    "\n",
    "highTrain = pd.read_csv(\"../../data/sets/insurance_high_train.csv\")\n",
    "highTest = pd.read_csv(\"../../data/sets/insurance_high_test.csv\")\n",
    "\n",
    "highTrainX = highTrain.drop(columns = [\"charges\"])\n",
    "highTrainY = highTrain[\"charges\"]\n",
    "\n",
    "highTestX = highTest.drop(columns = [\"charges\"])\n",
    "highTestY = highTest[\"charges\"]\n",
    "\n",
    "model.fit(highTrainX, highTrainY)\n",
    "predictions = model.predict(highTestX)\n",
    "\n",
    "print(\"R2 score: \" + str(r2_score(highTestY, predictions)))\n",
    "print(\"MSE: \" + str(mean_squared_error(highTestY, predictions)))"
   ]
  },
  {
   "cell_type": "code",
   "execution_count": 24,
   "metadata": {},
   "outputs": [
    {
     "name": "stdout",
     "output_type": "stream",
     "text": [
      "R2 score: 0.8714053183165895\n",
      "MSE: 0.013970763792166227\n"
     ]
    }
   ],
   "source": [
    "### Predict insurance costs for low-to-medium charges ###\n",
    "\n",
    "lowTrain = pd.read_csv(\"../../data/sets/insurance_low_train.csv\")\n",
    "lowTest = pd.read_csv(\"../../data/sets/insurance_low_test.csv\")\n",
    "\n",
    "lowTrainX = lowTrain.drop(columns = [\"charges\"])\n",
    "lowTrainY = lowTrain[\"charges\"]\n",
    "\n",
    "lowTestX = lowTest.drop(columns = [\"charges\"])\n",
    "lowTestY = lowTest[\"charges\"]\n",
    "\n",
    "model.fit(lowTrainX, lowTrainY)\n",
    "predictions = model.predict(lowTestX)\n",
    "\n",
    "print(\"R2 score: \" + str(r2_score(lowTestY, predictions)))\n",
    "print(\"MSE: \" + str(mean_squared_error(lowTestY, predictions)))"
   ]
  },
  {
   "cell_type": "code",
   "execution_count": null,
   "metadata": {},
   "outputs": [],
   "source": []
  }
 ],
 "metadata": {
  "kernelspec": {
   "display_name": "Python 3",
   "language": "python",
   "name": "python3"
  },
  "language_info": {
   "codemirror_mode": {
    "name": "ipython",
    "version": 3
   },
   "file_extension": ".py",
   "mimetype": "text/x-python",
   "name": "python",
   "nbconvert_exporter": "python",
   "pygments_lexer": "ipython3",
   "version": "3.8.3"
  }
 },
 "nbformat": 4,
 "nbformat_minor": 4
}
