{
 "cells": [
  {
   "cell_type": "code",
   "execution_count": 18,
   "metadata": {},
   "outputs": [],
   "source": [
    "from xgboost import XGBRegressor\n",
    "from sklearn.metrics import mean_squared_error, r2_score\n",
    "from sklearn.model_selection import RandomizedSearchCV\n",
    "import pandas as pd\n",
    "\n",
    "params = dict(\n",
    "    n_estimators = [i for i in range(100, 201)],\n",
    "    max_depth = [i for i in range(2, 11)],\n",
    "    learning_rate = [(i / 100) for i in range(1, 21)],\n",
    "    gamma = [(i / 100) for i in range(1, 11)],\n",
    "    subsample = [0.5, 0.6, 0.7, 0.8, 0.9, 1],\n",
    "    colsample_bytree = [0.5, 0.6, 0.7, 0.8, 0.9, 1]\n",
    ")\n",
    "\n",
    "model = XGBRegressor(objective = \"reg:squarederror\", random_state = 0)"
   ]
  },
  {
   "cell_type": "code",
   "execution_count": 19,
   "metadata": {},
   "outputs": [
    {
     "name": "stdout",
     "output_type": "stream",
     "text": [
      "Best Training Score: 0.8580885588377456\n",
      "Best Params: {'subsample': 0.9, 'n_estimators': 135, 'max_depth': 2, 'learning_rate': 0.05, 'gamma': 0.06, 'colsample_bytree': 0.9}\n",
      "R2 score: 0.8513412202920095\n",
      "MSE: 0.17064900383629192\n"
     ]
    }
   ],
   "source": [
    "### Predict insurance costs for all charges ###\n",
    "\n",
    "trainInsurance = pd.read_csv(\"../../data/sets/insurance_train.csv\")\n",
    "testInsurance = pd.read_csv(\"../../data/sets/insurance_test.csv\")\n",
    "\n",
    "trainX = trainInsurance.drop(columns = [\"charges\"])\n",
    "trainY = trainInsurance[\"charges\"]\n",
    "\n",
    "testX = testInsurance.drop(columns = [\"charges\"])\n",
    "testY = testInsurance[\"charges\"]\n",
    "\n",
    "randomSearch = RandomizedSearchCV(\n",
    "    estimator = model, \n",
    "    param_distributions = params, \n",
    "    n_iter = 300, \n",
    "    random_state = 0\n",
    ")\n",
    "\n",
    "randomSearch.fit(trainX, trainY)\n",
    "predictions = randomSearch.predict(testX)\n",
    "\n",
    "print(\"Best Training Score: \" + str(randomSearch.best_score_))\n",
    "print(\"Best Params: \" + str(randomSearch.best_params_))\n",
    "print(\"R2 score: \" + str(r2_score(testY, predictions)))\n",
    "print(\"MSE: \" + str(mean_squared_error(testY, predictions)))"
   ]
  },
  {
   "cell_type": "code",
   "execution_count": 20,
   "metadata": {},
   "outputs": [
    {
     "name": "stdout",
     "output_type": "stream",
     "text": [
      "Best Training Score: 0.8182477206951925\n",
      "Best Params: {'subsample': 1, 'n_estimators': 166, 'max_depth': 3, 'learning_rate': 0.06, 'gamma': 0.1, 'colsample_bytree': 0.9}\n",
      "R2 score: 0.8476563001555733\n",
      "MSE: 0.12878579737860602\n"
     ]
    }
   ],
   "source": [
    "### Predict insurance costs for high charges ###\n",
    "\n",
    "highTrain = pd.read_csv(\"../../data/sets/insurance_high_train.csv\")\n",
    "highTest = pd.read_csv(\"../../data/sets/insurance_high_test.csv\")\n",
    "\n",
    "highTrainX = highTrain.drop(columns = [\"charges\"])\n",
    "highTrainY = highTrain[\"charges\"]\n",
    "\n",
    "highTestX = highTest.drop(columns = [\"charges\"])\n",
    "highTestY = highTest[\"charges\"]\n",
    "\n",
    "randomSearch = RandomizedSearchCV(\n",
    "    estimator = model, \n",
    "    param_distributions = params, \n",
    "    n_iter = 300, \n",
    "    random_state = 0\n",
    ")\n",
    "\n",
    "randomSearch.fit(highTrainX, highTrainY)\n",
    "predictions = randomSearch.predict(highTestX)\n",
    "\n",
    "print(\"Best Training Score: \" + str(randomSearch.best_score_))\n",
    "print(\"Best Params: \" + str(randomSearch.best_params_))\n",
    "print(\"R2 score: \" + str(r2_score(highTestY, predictions)))\n",
    "print(\"MSE: \" + str(mean_squared_error(highTestY, predictions)))"
   ]
  },
  {
   "cell_type": "code",
   "execution_count": 21,
   "metadata": {},
   "outputs": [
    {
     "name": "stdout",
     "output_type": "stream",
     "text": [
      "Best Training Score: 0.9096155752149357\n",
      "Best Params: {'subsample': 1, 'n_estimators': 195, 'max_depth': 2, 'learning_rate': 0.07, 'gamma': 0.01, 'colsample_bytree': 0.6}\n",
      "R2 score: 0.8943069162358996\n",
      "MSE: 0.11259403942349125\n"
     ]
    }
   ],
   "source": [
    "### Predict insurance costs for low charges ###\n",
    "\n",
    "lowTrain = pd.read_csv(\"../../data/sets/insurance_low_train.csv\")\n",
    "lowTest = pd.read_csv(\"../../data/sets/insurance_low_test.csv\")\n",
    "\n",
    "lowTrainX = lowTrain.drop(columns = [\"charges\"])\n",
    "lowTrainY = lowTrain[\"charges\"]\n",
    "\n",
    "lowTestX = lowTest.drop(columns = [\"charges\"])\n",
    "lowTestY = lowTest[\"charges\"]\n",
    "\n",
    "randomSearch = RandomizedSearchCV(\n",
    "    estimator = model, \n",
    "    param_distributions = params, \n",
    "    n_iter = 300, \n",
    "    random_state = 0\n",
    ")\n",
    "\n",
    "randomSearch.fit(lowTrainX, lowTrainY)\n",
    "predictions = randomSearch.predict(lowTestX)\n",
    "\n",
    "print(\"Best Training Score: \" + str(randomSearch.best_score_))\n",
    "print(\"Best Params: \" + str(randomSearch.best_params_))\n",
    "print(\"R2 score: \" + str(r2_score(lowTestY, predictions)))\n",
    "print(\"MSE: \" + str(mean_squared_error(lowTestY, predictions)))"
   ]
  },
  {
   "cell_type": "code",
   "execution_count": null,
   "metadata": {},
   "outputs": [],
   "source": []
  }
 ],
 "metadata": {
  "kernelspec": {
   "display_name": "Python 3",
   "language": "python",
   "name": "python3"
  },
  "language_info": {
   "codemirror_mode": {
    "name": "ipython",
    "version": 3
   },
   "file_extension": ".py",
   "mimetype": "text/x-python",
   "name": "python",
   "nbconvert_exporter": "python",
   "pygments_lexer": "ipython3",
   "version": "3.8.3"
  }
 },
 "nbformat": 4,
 "nbformat_minor": 4
}
