{
 "cells": [
  {
   "cell_type": "code",
   "execution_count": 6,
   "metadata": {},
   "outputs": [],
   "source": [
    "from sklearn.neural_network import MLPRegressor\n",
    "from sklearn.metrics import mean_squared_error, r2_score\n",
    "from sklearn.model_selection import RandomizedSearchCV\n",
    "import pandas as pd\n",
    "import warnings\n",
    "\n",
    "# To ignore convergence warnings\n",
    "warnings.filterwarnings(\"ignore\")\n",
    "\n",
    "params = dict(\n",
    "    max_iter = [500, 600, 700, 800, 900, 1000],\n",
    "    hidden_layer_sizes = [(2,), (3,), (4,), (5,), (6,), (7,)], \n",
    "    activation = [\"tanh\", \"relu\"], \n",
    "    alpha = [(i / 10000) for i in range(1, 10)]\n",
    ")\n",
    "\n",
    "model = MLPRegressor(solver = \"lbfgs\", random_state = 0)"
   ]
  },
  {
   "cell_type": "code",
   "execution_count": 7,
   "metadata": {},
   "outputs": [
    {
     "name": "stdout",
     "output_type": "stream",
     "text": [
      "Best Training Score: 0.85010579584171\n",
      "Best Params: {'max_iter': 500, 'hidden_layer_sizes': (4,), 'alpha': 0.0009, 'activation': 'relu'}\n",
      "R2 score: 0.8574886827464966\n",
      "MSE: 0.16359218320289326\n"
     ]
    }
   ],
   "source": [
    "### Predict insurance costs for all charges ###\n",
    "\n",
    "trainInsurance = pd.read_csv(\"../../data/sets/insurance_train.csv\")\n",
    "testInsurance = pd.read_csv(\"../../data/sets/insurance_test.csv\")\n",
    "\n",
    "trainX = trainInsurance.drop(columns = [\"charges\"])\n",
    "trainY = trainInsurance[\"charges\"]\n",
    "\n",
    "testX = testInsurance.drop(columns = [\"charges\"])\n",
    "testY = testInsurance[\"charges\"]\n",
    "\n",
    "randomSearch = RandomizedSearchCV(\n",
    "    estimator = model, \n",
    "    param_distributions = params, \n",
    "    n_iter = 300, \n",
    "    random_state = 0\n",
    ")\n",
    "\n",
    "randomSearch.fit(trainX, trainY)\n",
    "predictions = randomSearch.predict(testX)\n",
    "\n",
    "print(\"Best Training Score: \" + str(randomSearch.best_score_))\n",
    "print(\"Best Params: \" + str(randomSearch.best_params_))\n",
    "print(\"R2 score: \" + str(r2_score(testY, predictions)))\n",
    "print(\"MSE: \" + str(mean_squared_error(testY, predictions)))"
   ]
  },
  {
   "cell_type": "code",
   "execution_count": 8,
   "metadata": {},
   "outputs": [
    {
     "name": "stdout",
     "output_type": "stream",
     "text": [
      "Best Training Score: 0.7481430361551966\n",
      "Best Params: {'max_iter': 1000, 'hidden_layer_sizes': (5,), 'alpha': 0.0007, 'activation': 'relu'}\n",
      "R2 score: 0.7542930265423176\n",
      "MSE: 0.20771169750075644\n"
     ]
    }
   ],
   "source": [
    "### Predict insurance costs for high charges ###\n",
    "\n",
    "highTrain = pd.read_csv(\"../../data/sets/insurance_high_train.csv\")\n",
    "highTest = pd.read_csv(\"../../data/sets/insurance_high_test.csv\")\n",
    "\n",
    "highTrainX = highTrain.drop(columns = [\"charges\"])\n",
    "highTrainY = highTrain[\"charges\"]\n",
    "\n",
    "highTestX = highTest.drop(columns = [\"charges\"])\n",
    "highTestY = highTest[\"charges\"]\n",
    "\n",
    "randomSearch = RandomizedSearchCV(\n",
    "    estimator = model, \n",
    "    param_distributions = params, \n",
    "    n_iter = 300, \n",
    "    random_state = 0\n",
    ")\n",
    "\n",
    "randomSearch.fit(highTrainX, highTrainY)\n",
    "predictions = randomSearch.predict(highTestX)\n",
    "\n",
    "print(\"Best Training Score: \" + str(randomSearch.best_score_))\n",
    "print(\"Best Params: \" + str(randomSearch.best_params_))\n",
    "print(\"R2 score: \" + str(r2_score(highTestY, predictions)))\n",
    "print(\"MSE: \" + str(mean_squared_error(highTestY, predictions)))\n"
   ]
  },
  {
   "cell_type": "code",
   "execution_count": 9,
   "metadata": {},
   "outputs": [
    {
     "name": "stdout",
     "output_type": "stream",
     "text": [
      "Best Training Score: 0.9113791516225207\n",
      "Best Params: {'max_iter': 500, 'hidden_layer_sizes': (3,), 'alpha': 0.0003, 'activation': 'tanh'}\n",
      "R2 score: 0.8925623035502314\n",
      "MSE: 0.11445256206767189\n"
     ]
    }
   ],
   "source": [
    "### Predict insurance costs for low-to-medium charges ###\n",
    "\n",
    "lowTrain = pd.read_csv(\"../../data/sets/insurance_low_train.csv\")\n",
    "lowTest = pd.read_csv(\"../../data/sets/insurance_low_test.csv\")\n",
    "\n",
    "lowTrainX = lowTrain.drop(columns = [\"charges\"])\n",
    "lowTrainY = lowTrain[\"charges\"]\n",
    "\n",
    "lowTestX = lowTest.drop(columns = [\"charges\"])\n",
    "lowTestY = lowTest[\"charges\"]\n",
    "\n",
    "randomSearch = RandomizedSearchCV(\n",
    "    estimator = model, \n",
    "    param_distributions = params, \n",
    "    n_iter = 300, \n",
    "    random_state = 0\n",
    ")\n",
    "\n",
    "randomSearch.fit(lowTrainX, lowTrainY)\n",
    "predictions = randomSearch.predict(lowTestX)\n",
    "\n",
    "print(\"Best Training Score: \" + str(randomSearch.best_score_))\n",
    "print(\"Best Params: \" + str(randomSearch.best_params_))\n",
    "print(\"R2 score: \" + str(r2_score(lowTestY, predictions)))\n",
    "print(\"MSE: \" + str(mean_squared_error(lowTestY, predictions)))"
   ]
  },
  {
   "cell_type": "code",
   "execution_count": null,
   "metadata": {},
   "outputs": [],
   "source": []
  }
 ],
 "metadata": {
  "kernelspec": {
   "display_name": "Python 3",
   "language": "python",
   "name": "python3"
  },
  "language_info": {
   "codemirror_mode": {
    "name": "ipython",
    "version": 3
   },
   "file_extension": ".py",
   "mimetype": "text/x-python",
   "name": "python",
   "nbconvert_exporter": "python",
   "pygments_lexer": "ipython3",
   "version": "3.8.3"
  }
 },
 "nbformat": 4,
 "nbformat_minor": 4
}
