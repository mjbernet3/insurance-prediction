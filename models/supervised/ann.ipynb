{
 "cells": [
  {
   "cell_type": "code",
   "execution_count": 26,
   "metadata": {},
   "outputs": [],
   "source": [
    "from sklearn.neural_network import MLPRegressor\n",
    "from sklearn.metrics import mean_squared_error, r2_score\n",
    "from sklearn.model_selection import RandomizedSearchCV\n",
    "import pandas as pd\n",
    "import matplotlib.pyplot as plt\n",
    "\n",
    "# TODO: Optimize neural network hyperparameters using RandomizedSearch\n",
    "params = dict(\n",
    "    hidden_layer_sizes= [(1,),(50,), (9,9,9)], \n",
    "    activation= [\"tanh\", \"relu\"], \n",
    "    solver= [\"lbfgs\", \"sgd\", \"adam\"], \n",
    "    alpha= [0.00005,0.0005],\n",
    "    learning_rate=['constant', 'adaptive']\n",
    ")\n",
    "\n",
    "model = MLPRegressor(max_iter = 1000, random_state = 0)"
   ]
  },
  {
   "cell_type": "code",
   "execution_count": 35,
   "metadata": {},
   "outputs": [
    {
     "name": "stdout",
     "output_type": "stream",
     "text": [
      "Best Training Score: 0.8359983707601534\n",
      "Best Params: {'alpha': 5e-05, 'learning_rate': 'constant', 'hidden_layer_sizes': (50,), 'activation': 'relu', 'solver': 'adam'}\n",
      "R2 score: 0.839249584380221\n",
      "MSE: 0.18452928475310706\n"
     ]
    }
   ],
   "source": [
    "### Predict insurance costs for all charges ###\n",
    "\n",
    "trainInsurance = pd.read_csv(\"../../data/sets/insurance_train.csv\")\n",
    "testInsurance = pd.read_csv(\"../../data/sets/insurance_test.csv\")\n",
    "\n",
    "trainX = trainInsurance.drop(columns = [\"charges\"])\n",
    "trainY = trainInsurance[\"charges\"]\n",
    "\n",
    "testX = testInsurance.drop(columns = [\"charges\"])\n",
    "testY = testInsurance[\"charges\"]\n",
    "\n",
    "randomSearch = RandomizedSearchCV(\n",
    "    estimator = model, \n",
    "    param_distributions = params, \n",
    "    n_iter = 200, \n",
    "    random_state = 0\n",
    ")\n",
    "\n",
    "randomSearch.fit(trainX, trainY)\n",
    "predictions = randomSearch.predict(testX)\n",
    "\n",
    "# model.fit(trainX, trainY)\n",
    "# predictions = model.predict(testX)\n",
    "print(\"Best Training Score: \" + str(randomSearch.best_score_))\n",
    "print(\"Best Params: \" + str(randomSearch.best_params_))\n",
    "print(\"R2 score: \" + str(r2_score(testY, predictions)))\n",
    "print(\"MSE: \" + str(mean_squared_error(testY, predictions)))"
   ]
  },
  {
   "cell_type": "code",
   "execution_count": 36,
   "metadata": {},
   "outputs": [
    {
     "data": {
      "text/plain": [
       "Text(0.5,1,'all charges')"
      ]
     },
     "execution_count": 36,
     "metadata": {},
     "output_type": "execute_result"
    },
    {
     "data": {
      "image/png": "[encoded data removed]",
      "text/plain": [
       "<Figure size 432x288 with 1 Axes>"
      ]
     },
     "metadata": {
      "needs_background": "light"
     },
     "output_type": "display_data"
    }
   ],
   "source": [
    "plt.scatter(testY, predictions)\n",
    "plt.ylabel('predicted charges') \n",
    "plt.xlabel('actual charges') \n",
    "plt.title('all charges')"
   ]
  },
  {
   "cell_type": "code",
   "execution_count": 32,
   "metadata": {},
   "outputs": [
    {
     "name": "stdout",
     "output_type": "stream",
     "text": [
      "Best Training Score: 0.7222983102793522\n",
      "Best Params: {'alpha': 0.0005, 'learning_rate': 'constant', 'hidden_layer_sizes': (1,), 'activation': 'tanh', 'solver': 'lbfgs'}\n",
      "R2 score: 0.7495435033294482\n",
      "MSE: 0.2117267708826044\n"
     ]
    },
    {
     "name": "stderr",
     "output_type": "stream",
     "text": [
      "C:\\Users\\Ester\\Anaconda2\\lib\\site-packages\\sklearn\\model_selection\\_search.py:841: DeprecationWarning: The default of the `iid` parameter will change from True to False in version 0.22 and will be removed in 0.24. This will change numeric results when test-set sizes are unequal.\n",
      "  DeprecationWarning)\n"
     ]
    }
   ],
   "source": [
    "### Predict insurance costs for high charges ###\n",
    "\n",
    "highTrain = pd.read_csv(\"../../data/sets/insurance_high_train.csv\")\n",
    "highTest = pd.read_csv(\"../../data/sets/insurance_high_test.csv\")\n",
    "\n",
    "highTrainX = highTrain.drop(columns = [\"charges\"])\n",
    "highTrainY = highTrain[\"charges\"]\n",
    "\n",
    "highTestX = highTest.drop(columns = [\"charges\"])\n",
    "highTestY = highTest[\"charges\"]\n",
    "\n",
    "randomSearch = RandomizedSearchCV(\n",
    "    estimator = model, \n",
    "    param_distributions = params, \n",
    "    n_iter = 200, \n",
    "    random_state = 0\n",
    ")\n",
    "\n",
    "randomSearch.fit(highTrainX, highTrainY)\n",
    "predictions = randomSearch.predict(highTestX)\n",
    "\n",
    "print(\"Best Training Score: \" + str(randomSearch.best_score_))\n",
    "print(\"Best Params: \" + str(randomSearch.best_params_))\n",
    "print(\"R2 score: \" + str(r2_score(highTestY, predictions)))\n",
    "print(\"MSE: \" + str(mean_squared_error(highTestY, predictions)))\n"
   ]
  },
  {
   "cell_type": "code",
   "execution_count": 33,
   "metadata": {},
   "outputs": [
    {
     "data": {
      "text/plain": [
       "Text(0.5,1,'high cost charges')"
      ]
     },
     "execution_count": 33,
     "metadata": {},
     "output_type": "execute_result"
    },
    {
     "data": {
      "image/png": "[encoded data removed]",
      "text/plain": [
       "<Figure size 432x288 with 1 Axes>"
      ]
     },
     "metadata": {
      "needs_background": "light"
     },
     "output_type": "display_data"
    }
   ],
   "source": [
    "plt.scatter(highTestY, predictions)\n",
    "plt.ylabel('predicted charges') \n",
    "plt.xlabel('actual charges') \n",
    "plt.title('high cost charges')"
   ]
  },
  {
   "cell_type": "code",
   "execution_count": 34,
   "metadata": {},
   "outputs": [
    {
     "name": "stdout",
     "output_type": "stream",
     "text": [
      "Best Training Score: 0.9080329294312292\n",
      "Best Params: {'alpha': 0.0005, 'learning_rate': 'constant', 'hidden_layer_sizes': (1,), 'activation': 'tanh', 'solver': 'lbfgs'}\n",
      "R2 score: 0.8893147661424958\n",
      "MSE: 0.11791213900396369\n"
     ]
    }
   ],
   "source": [
    "### Predict insurance costs for low-to-medium charges ###\n",
    "\n",
    "lowTrain = pd.read_csv(\"../../data/sets/insurance_low_train.csv\")\n",
    "lowTest = pd.read_csv(\"../../data/sets/insurance_low_test.csv\")\n",
    "\n",
    "lowTrainX = lowTrain.drop(columns = [\"charges\"])\n",
    "lowTrainY = lowTrain[\"charges\"]\n",
    "\n",
    "lowTestX = lowTest.drop(columns = [\"charges\"])\n",
    "lowTestY = lowTest[\"charges\"]\n",
    "\n",
    "randomSearch = RandomizedSearchCV(\n",
    "    estimator = model, \n",
    "    param_distributions = params, \n",
    "    n_iter = 200, \n",
    "    random_state = 0\n",
    ")\n",
    "\n",
    "randomSearch.fit(lowTrainX, lowTrainY)\n",
    "predictions = randomSearch.predict(lowTestX)\n",
    "\n",
    "print(\"Best Training Score: \" + str(randomSearch.best_score_))\n",
    "print(\"Best Params: \" + str(randomSearch.best_params_))\n",
    "print(\"R2 score: \" + str(r2_score(lowTestY, predictions)))\n",
    "print(\"MSE: \" + str(mean_squared_error(lowTestY, predictions)))"
   ]
  },
  {
   "cell_type": "code",
   "execution_count": 14,
   "metadata": {},
   "outputs": [
    {
     "data": {
      "text/plain": [
       "Text(0.5,1,'low-to-medium cost charges')"
      ]
     },
     "execution_count": 14,
     "metadata": {},
     "output_type": "execute_result"
    },
    {
     "data": {
      "image/png": "[encoded data removed]",
      "text/plain": [
       "<Figure size 432x288 with 1 Axes>"
      ]
     },
     "metadata": {
      "needs_background": "light"
     },
     "output_type": "display_data"
    }
   ],
   "source": [
    "plt.scatter(lowTestY, predictions)\n",
    "plt.ylabel('predicted charges') \n",
    "plt.xlabel('actual charges') \n",
    "plt.title('low-to-medium cost charges')"
   ]
  }
 ],
 "metadata": {
  "kernelspec": {
   "display_name": "Python 2",
   "language": "python",
   "name": "python2"
  },
  "language_info": {
   "codemirror_mode": {
    "name": "ipython",
    "version": 2
   },
   "file_extension": ".py",
   "mimetype": "text/x-python",
   "name": "python",
   "nbconvert_exporter": "python",
   "pygments_lexer": "ipython2",
   "version": "2.7.15"
  }
 },
 "nbformat": 4,
 "nbformat_minor": 4
}
