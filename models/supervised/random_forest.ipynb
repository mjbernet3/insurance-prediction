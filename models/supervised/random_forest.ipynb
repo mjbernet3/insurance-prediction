{
 "cells": [
  {
   "cell_type": "code",
   "execution_count": 1,
   "metadata": {},
   "outputs": [],
   "source": [
    "from sklearn.ensemble import RandomForestRegressor\n",
    "from sklearn.metrics import mean_squared_error, r2_score\n",
    "from sklearn.model_selection import RandomizedSearchCV\n",
    "import pandas as pd\n",
    "\n",
    "params = dict(\n",
    "    n_estimators = [i for i in range(100, 201)],\n",
    "    max_features = [0.5, 0.6, 0.7, 0.8, 0.9, \"auto\"],\n",
    "    max_depth = [i for i in range(2, 11)],\n",
    "    min_samples_split = [i for i in range(2, 11)],\n",
    "    min_samples_leaf = [i for i in range(1, 11)]\n",
    ")\n",
    "\n",
    "estimator = RandomForestRegressor(random_state = 0)"
   ]
  },
  {
   "cell_type": "code",
   "execution_count": 3,
   "metadata": {},
   "outputs": [
    {
     "name": "stdout",
     "output_type": "stream",
     "text": [
      "Best Training Score: 0.8593153001811272\n",
      "Best Params: {'n_estimators': 116, 'min_samples_split': 7, 'min_samples_leaf': 10, 'max_features': 0.8, 'max_depth': 6}\n",
      "R2 score: 0.8499593222371465\n",
      "MSE: 0.17223531799095473\n"
     ]
    }
   ],
   "source": [
    "### Predict insurance costs for all charges ###\n",
    "\n",
    "trainInsurance = pd.read_csv(\"../../data/sets/insurance_train.csv\")\n",
    "testInsurance = pd.read_csv(\"../../data/sets/insurance_test.csv\")\n",
    "\n",
    "trainX = trainInsurance.drop(columns = [\"charges\"])\n",
    "trainY = trainInsurance[\"charges\"]\n",
    "\n",
    "testX = testInsurance.drop(columns = [\"charges\"])\n",
    "testY = testInsurance[\"charges\"]\n",
    "\n",
    "randomSearch = RandomizedSearchCV(\n",
    "    estimator = estimator, \n",
    "    param_distributions = params, \n",
    "    n_iter = 300, \n",
    "    random_state = 0\n",
    ")\n",
    "\n",
    "randomSearch.fit(trainX, trainY)\n",
    "predictions = randomSearch.predict(testX)\n",
    "\n",
    "print(\"Best Training Score: \" + str(randomSearch.best_score_))\n",
    "print(\"Best Params: \" + str(randomSearch.best_params_))\n",
    "print(\"R2 score: \" + str(r2_score(testY, predictions)))\n",
    "print(\"MSE: \" + str(mean_squared_error(testY, predictions)))"
   ]
  },
  {
   "cell_type": "code",
   "execution_count": 4,
   "metadata": {},
   "outputs": [
    {
     "name": "stdout",
     "output_type": "stream",
     "text": [
      "Best Training Score: 0.8340333620008297\n",
      "Best Params: {'n_estimators': 139, 'min_samples_split': 10, 'min_samples_leaf': 2, 'max_features': 0.8, 'max_depth': 10}\n",
      "R2 score: 0.8366161395403259\n",
      "MSE: 0.1381187457675087\n"
     ]
    }
   ],
   "source": [
    "### Predict insurance costs for high charges ###\n",
    "\n",
    "highTrain = pd.read_csv(\"../../data/sets/insurance_high_train.csv\")\n",
    "highTest = pd.read_csv(\"../../data/sets/insurance_high_test.csv\")\n",
    "\n",
    "highTrainX = highTrain.drop(columns = [\"charges\"])\n",
    "highTrainY = highTrain[\"charges\"]\n",
    "\n",
    "highTestX = highTest.drop(columns = [\"charges\"])\n",
    "highTestY = highTest[\"charges\"]\n",
    "\n",
    "randomSearch = RandomizedSearchCV(\n",
    "    estimator = estimator, \n",
    "    param_distributions = params, \n",
    "    n_iter = 300, \n",
    "    random_state = 0\n",
    ")\n",
    "\n",
    "randomSearch.fit(highTrainX, highTrainY)\n",
    "predictions = randomSearch.predict(highTestX)\n",
    "\n",
    "print(\"Best Training Score: \" + str(randomSearch.best_score_))\n",
    "print(\"Best Params: \" + str(randomSearch.best_params_))\n",
    "print(\"R2 score: \" + str(r2_score(highTestY, predictions)))\n",
    "print(\"MSE: \" + str(mean_squared_error(highTestY, predictions)))"
   ]
  },
  {
   "cell_type": "code",
   "execution_count": 5,
   "metadata": {},
   "outputs": [
    {
     "name": "stdout",
     "output_type": "stream",
     "text": [
      "Best Training Score: 0.9029538149922793\n",
      "Best Params: {'n_estimators': 176, 'min_samples_split': 3, 'min_samples_leaf': 1, 'max_features': 0.7, 'max_depth': 9}\n",
      "R2 score: 0.8803258565871266\n",
      "MSE: 0.12748795608496002\n"
     ]
    }
   ],
   "source": [
    "### Predict insurance costs for low-to-medium charges ###\n",
    "\n",
    "lowTrain = pd.read_csv(\"../../data/sets/insurance_low_train.csv\")\n",
    "lowTest = pd.read_csv(\"../../data/sets/insurance_low_test.csv\")\n",
    "\n",
    "lowTrainX = lowTrain.drop(columns = [\"charges\"])\n",
    "lowTrainY = lowTrain[\"charges\"]\n",
    "\n",
    "lowTestX = lowTest.drop(columns = [\"charges\"])\n",
    "lowTestY = lowTest[\"charges\"]\n",
    "\n",
    "randomSearch = RandomizedSearchCV(\n",
    "    estimator = estimator, \n",
    "    param_distributions = params, \n",
    "    n_iter = 300, \n",
    "    random_state = 0\n",
    ")\n",
    "\n",
    "randomSearch.fit(lowTrainX, lowTrainY)\n",
    "predictions = randomSearch.predict(lowTestX)\n",
    "\n",
    "print(\"Best Training Score: \" + str(randomSearch.best_score_))\n",
    "print(\"Best Params: \" + str(randomSearch.best_params_))\n",
    "print(\"R2 score: \" + str(r2_score(lowTestY, predictions)))\n",
    "print(\"MSE: \" + str(mean_squared_error(lowTestY, predictions)))"
   ]
  },
  {
   "cell_type": "code",
   "execution_count": null,
   "metadata": {},
   "outputs": [],
   "source": []
  }
 ],
 "metadata": {
  "kernelspec": {
   "display_name": "Python 3",
   "language": "python",
   "name": "python3"
  },
  "language_info": {
   "codemirror_mode": {
    "name": "ipython",
    "version": 3
   },
   "file_extension": ".py",
   "mimetype": "text/x-python",
   "name": "python",
   "nbconvert_exporter": "python",
   "pygments_lexer": "ipython3",
   "version": "3.8.3"
  }
 },
 "nbformat": 4,
 "nbformat_minor": 4
}
