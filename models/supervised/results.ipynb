{
 "cells": [
  {
   "cell_type": "code",
   "execution_count": 12,
   "metadata": {},
   "outputs": [
    {
     "data": {
      "text/html": [
       "<div>\n",
       "<style scoped>\n",
       "    .dataframe tbody tr th:only-of-type {\n",
       "        vertical-align: middle;\n",
       "    }\n",
       "\n",
       "    .dataframe tbody tr th {\n",
       "        vertical-align: top;\n",
       "    }\n",
       "\n",
       "    .dataframe thead th {\n",
       "        text-align: right;\n",
       "    }\n",
       "</style>\n",
       "<table border=\"1\" class=\"dataframe\">\n",
       "  <thead>\n",
       "    <tr style=\"text-align: right;\">\n",
       "      <th></th>\n",
       "      <th>All R2</th>\n",
       "      <th>All MSE</th>\n",
       "      <th>High R2</th>\n",
       "      <th>High MSE</th>\n",
       "      <th>Low R2</th>\n",
       "      <th>Low MSE</th>\n",
       "    </tr>\n",
       "  </thead>\n",
       "  <tbody>\n",
       "    <tr>\n",
       "      <th>Linear Regression</th>\n",
       "      <td>0.751</td>\n",
       "      <td>0.286</td>\n",
       "      <td>0.524</td>\n",
       "      <td>0.403</td>\n",
       "      <td>0.871</td>\n",
       "      <td>0.137</td>\n",
       "    </tr>\n",
       "    <tr>\n",
       "      <th>Random Forest</th>\n",
       "      <td>0.850</td>\n",
       "      <td>0.172</td>\n",
       "      <td>0.837</td>\n",
       "      <td>0.138</td>\n",
       "      <td>0.880</td>\n",
       "      <td>0.127</td>\n",
       "    </tr>\n",
       "    <tr>\n",
       "      <th>XGBoost</th>\n",
       "      <td>0.851</td>\n",
       "      <td>0.171</td>\n",
       "      <td>0.848</td>\n",
       "      <td>0.129</td>\n",
       "      <td>0.894</td>\n",
       "      <td>0.113</td>\n",
       "    </tr>\n",
       "  </tbody>\n",
       "</table>\n",
       "</div>"
      ],
      "text/plain": [
       "                   All R2  All MSE  High R2  High MSE  Low R2  Low MSE\n",
       "Linear Regression   0.751    0.286    0.524     0.403   0.871    0.137\n",
       "Random Forest       0.850    0.172    0.837     0.138   0.880    0.127\n",
       "XGBoost             0.851    0.171    0.848     0.129   0.894    0.113"
      ]
     },
     "execution_count": 12,
     "metadata": {},
     "output_type": "execute_result"
    }
   ],
   "source": [
    "import pandas as pd\n",
    "\n",
    "# TODO: Add ann results to table\n",
    "metricTable = pd.DataFrame()\n",
    "\n",
    "metricTable[\"All R2\"] = [0.751, 0.850, 0.851]\n",
    "metricTable[\"All MSE\"] = [0.286, 0.172, 0.171]\n",
    "metricTable[\"High R2\"] = [0.524, 0.837, 0.848]\n",
    "metricTable[\"High MSE\"] = [0.403, 0.138, 0.129]\n",
    "metricTable[\"Low R2\"] = [0.871, 0.880, 0.894]\n",
    "metricTable[\"Low MSE\"] = [0.137, 0.127, 0.113]\n",
    "\n",
    "metricTable.index = [\"Linear Regression\", \"Random Forest\", \"XGBoost\"]\n",
    "metricTable.head()"
   ]
  },
  {
   "cell_type": "code",
   "execution_count": 13,
   "metadata": {},
   "outputs": [],
   "source": [
    "### Plot best actual vs predicted for best combined cost model ###\n"
   ]
  },
  {
   "cell_type": "code",
   "execution_count": 14,
   "metadata": {},
   "outputs": [],
   "source": [
    "### Plot best actual vs predicted for best high cost model ###\n"
   ]
  },
  {
   "cell_type": "code",
   "execution_count": 15,
   "metadata": {},
   "outputs": [],
   "source": [
    "### Plot best actual vs predicted for best low cost model ###\n"
   ]
  }
 ],
 "metadata": {
  "kernelspec": {
   "display_name": "Python 3",
   "language": "python",
   "name": "python3"
  },
  "language_info": {
   "codemirror_mode": {
    "name": "ipython",
    "version": 3
   },
   "file_extension": ".py",
   "mimetype": "text/x-python",
   "name": "python",
   "nbconvert_exporter": "python",
   "pygments_lexer": "ipython3",
   "version": "3.8.3"
  }
 },
 "nbformat": 4,
 "nbformat_minor": 4
}
