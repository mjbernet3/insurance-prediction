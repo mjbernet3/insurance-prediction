{
 "cells": [
  {
   "cell_type": "code",
   "execution_count": 36,
   "metadata": {},
   "outputs": [],
   "source": [
    "import pandas as pd\n",
    "from sklearn.preprocessing import StandardScaler\n",
    "from sklearn.model_selection import train_test_split"
   ]
  },
  {
   "cell_type": "code",
   "execution_count": 37,
   "metadata": {},
   "outputs": [],
   "source": [
    "### Clean Insurance Data ###\n",
    "insurance = pd.read_csv(\"sets/insurance_raw.csv\")\n",
    "\n",
    "sexes = [\"female\", \"male\"]\n",
    "smoker = [\"no\", \"yes\"]\n",
    "regions = [\"northeast\", \"southeast\", \"southwest\", \"northwest\"]\n",
    "\n",
    "# Remove rows with missing values\n",
    "insurance = insurance.dropna()\n",
    "\n",
    "# Remove duplicate rows\n",
    "insurance = insurance.drop_duplicates()\n",
    "\n",
    "# Remove rows with bad or impossible data\n",
    "ageFilter = insurance[\"age\"].between(0, 130)\n",
    "insurance = insurance[ageFilter]\n",
    "\n",
    "sexFilter = insurance[\"sex\"].isin(sexes)\n",
    "insurance = insurance[sexFilter]\n",
    "\n",
    "bmiFilter = insurance[\"bmi\"].between(7, 200)\n",
    "insurance = insurance[bmiFilter]\n",
    "\n",
    "smokerFilter = insurance[\"smoker\"].isin(smoker)\n",
    "insurance = insurance[smokerFilter]\n",
    "\n",
    "regionFilter = insurance[\"region\"].isin(regions)\n",
    "insurance = insurance[regionFilter]\n",
    "\n",
    "costFilter = insurance[\"charges\"].gt(0)\n",
    "insurance = insurance[costFilter]\n",
    "\n",
    "# One hot encode some features to put them in more usable format\n",
    "insurance[\"sex\"].replace(sexes, [0, 1], inplace = True)\n",
    "insurance[\"smoker\"].replace(smoker, [0, 1], inplace = True)\n",
    "insurance[\"region\"].replace(regions, [0, 1, 2, 3], inplace = True)\n",
    "\n",
    "insurance.to_csv(\"sets/insurance_clean.csv\", index = False)"
   ]
  },
  {
   "cell_type": "code",
   "execution_count": 38,
   "metadata": {},
   "outputs": [],
   "source": [
    "### Fully encode data (previous encoding was useful for data exploration) ###\n",
    "\n",
    "cleanInsurance = pd.read_csv(\"sets/insurance_clean.csv\")\n",
    "cleanInsurance[\"region\"].replace([0, 1, 2, 3], regions, inplace = True)\n",
    "\n",
    "expandedFeatures = pd.get_dummies(cleanInsurance)\n",
    "regionColumns = expandedFeatures.columns[-4:]\n",
    "splitRegions = expandedFeatures.loc[:, regionColumns]\n",
    "\n",
    "temp = cleanInsurance.drop(columns = [\"region\", \"charges\"])\n",
    "encodedInsurance = pd.concat([temp, splitRegions, cleanInsurance[\"charges\"]], axis = 1)\n",
    "\n",
    "encodedInsurance.to_csv(\"sets/insurance_encoded.csv\", index = False)"
   ]
  },
  {
   "cell_type": "code",
   "execution_count": 39,
   "metadata": {},
   "outputs": [],
   "source": [
    "### Scale encoded features for use in unsupervised learning ###\n",
    "\n",
    "encodedInsurance = pd.read_csv(\"sets/insurance_encoded.csv\")\n",
    "\n",
    "numerical = [\"age\", \"bmi\", \"children\"]\n",
    "numericalData = encodedInsurance[numerical]\n",
    "categorical = [\"sex\", \"smoker\", \"region_northeast\", \"region_northwest\", \"region_southeast\", \"region_southwest\"]\n",
    "categoricalData = encodedInsurance[categorical]\n",
    "\n",
    "scaler = StandardScaler()\n",
    "scaledNumerical = scaler.fit_transform(numericalData)\n",
    "numericalData = pd.DataFrame(scaledNumerical)\n",
    "numericalData.columns = numerical\n",
    "\n",
    "scaledFeatures = pd.concat([numericalData, categoricalData], axis = 1)\n",
    "scaledFeatures.to_csv(\"sets/insurance_features_scaled.csv\", index = False)"
   ]
  },
  {
   "cell_type": "code",
   "execution_count": 40,
   "metadata": {},
   "outputs": [],
   "source": [
    "### Split encoded data into train and test sets ###\n",
    "\n",
    "encodedInsurance = pd.read_csv(\"sets/insurance_encoded.csv\")\n",
    "\n",
    "featureNames = list(encodedInsurance.columns)\n",
    "featureNames.pop()\n",
    "\n",
    "features = encodedInsurance.loc[:, featureNames]\n",
    "targets = encodedInsurance[\"charges\"]\n",
    "\n",
    "trainX, testX, trainY, testY = train_test_split(features, targets, test_size = 0.2, random_state = 0)\n",
    "\n",
    "trainData = pd.concat([trainX, trainY], axis = 1)\n",
    "testData = pd.concat([testX, testY], axis = 1)\n",
    "\n",
    "trainData.to_csv(\"sets/insurance_train.csv\", index = False)\n",
    "testData.to_csv(\"sets/insurance_test.csv\", index = False)"
   ]
  },
  {
   "cell_type": "code",
   "execution_count": null,
   "metadata": {},
   "outputs": [],
   "source": []
  }
 ],
 "metadata": {
  "kernelspec": {
   "display_name": "Python 3",
   "language": "python",
   "name": "python3"
  },
  "language_info": {
   "codemirror_mode": {
    "name": "ipython",
    "version": 3
   },
   "file_extension": ".py",
   "mimetype": "text/x-python",
   "name": "python",
   "nbconvert_exporter": "python",
   "pygments_lexer": "ipython3",
   "version": "3.8.3"
  }
 },
 "nbformat": 4,
 "nbformat_minor": 4
}
